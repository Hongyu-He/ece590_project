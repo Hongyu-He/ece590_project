{
 "cells": [
  {
   "cell_type": "code",
   "execution_count": 3,
   "metadata": {},
   "outputs": [
    {
     "name": "stdout",
     "output_type": "stream",
     "text": [
      "Requirement already satisfied: imgaug in /opt/conda/lib/python3.6/site-packages (0.4.0)\n",
      "Requirement already satisfied: six in /opt/conda/lib/python3.6/site-packages (from imgaug) (1.15.0)\n",
      "Requirement already satisfied: matplotlib in /opt/conda/lib/python3.6/site-packages (from imgaug) (3.1.1)\n",
      "Requirement already satisfied: opencv-python in /opt/conda/lib/python3.6/site-packages (from imgaug) (4.2.0.34)\n",
      "Requirement already satisfied: scikit-image>=0.14.2 in /opt/conda/lib/python3.6/site-packages (from imgaug) (0.17.2)\n",
      "Requirement already satisfied: imageio in /opt/conda/lib/python3.6/site-packages (from imgaug) (2.9.0)\n",
      "Requirement already satisfied: Shapely in /opt/conda/lib/python3.6/site-packages (from imgaug) (1.8.0)\n",
      "Requirement already satisfied: numpy>=1.15 in /opt/conda/lib/python3.6/site-packages (from imgaug) (1.17.3)\n",
      "Requirement already satisfied: Pillow in /opt/conda/lib/python3.6/site-packages (from imgaug) (7.2.0)\n",
      "Requirement already satisfied: scipy in /opt/conda/lib/python3.6/site-packages (from imgaug) (1.5.1)\n",
      "Requirement already satisfied: kiwisolver>=1.0.1 in /opt/conda/lib/python3.6/site-packages (from matplotlib->imgaug) (1.2.0)\n",
      "Requirement already satisfied: python-dateutil>=2.1 in /opt/conda/lib/python3.6/site-packages (from matplotlib->imgaug) (2.8.1)\n",
      "Requirement already satisfied: cycler>=0.10 in /opt/conda/lib/python3.6/site-packages (from matplotlib->imgaug) (0.10.0)\n",
      "Requirement already satisfied: pyparsing!=2.0.4,!=2.1.2,!=2.1.6,>=2.0.1 in /opt/conda/lib/python3.6/site-packages (from matplotlib->imgaug) (2.4.7)\n",
      "Requirement already satisfied: networkx>=2.0 in /opt/conda/lib/python3.6/site-packages (from scikit-image>=0.14.2->imgaug) (2.4)\n",
      "Requirement already satisfied: tifffile>=2019.7.26 in /opt/conda/lib/python3.6/site-packages (from scikit-image>=0.14.2->imgaug) (2020.7.4)\n",
      "Requirement already satisfied: PyWavelets>=1.1.1 in /opt/conda/lib/python3.6/site-packages (from scikit-image>=0.14.2->imgaug) (1.1.1)\n",
      "Requirement already satisfied: decorator>=4.3.0 in /opt/conda/lib/python3.6/site-packages (from networkx>=2.0->scikit-image>=0.14.2->imgaug) (4.4.2)\n",
      "Requirement already satisfied: terminaltables in /opt/conda/lib/python3.6/site-packages (3.1.0)\n",
      "Requirement already satisfied: torchsummary in /opt/conda/lib/python3.6/site-packages (1.5.1)\n",
      "Collecting pycocotools\n",
      "  Downloading https://files.pythonhosted.org/packages/de/df/056875d697c45182ed6d2ae21f62015896fdb841906fe48e7268e791c467/pycocotools-2.0.2.tar.gz\n",
      "Requirement already satisfied: setuptools>=18.0 in /opt/conda/lib/python3.6/site-packages (from pycocotools) (49.2.0.post20200712)\n",
      "Requirement already satisfied: cython>=0.27.3 in /opt/conda/lib/python3.6/site-packages (from pycocotools) (0.29)\n",
      "Requirement already satisfied: matplotlib>=2.1.0 in /opt/conda/lib/python3.6/site-packages (from pycocotools) (3.1.1)\n",
      "Requirement already satisfied: kiwisolver>=1.0.1 in /opt/conda/lib/python3.6/site-packages (from matplotlib>=2.1.0->pycocotools) (1.2.0)\n",
      "Requirement already satisfied: python-dateutil>=2.1 in /opt/conda/lib/python3.6/site-packages (from matplotlib>=2.1.0->pycocotools) (2.8.1)\n",
      "Requirement already satisfied: numpy>=1.11 in /opt/conda/lib/python3.6/site-packages (from matplotlib>=2.1.0->pycocotools) (1.17.3)\n",
      "Requirement already satisfied: pyparsing!=2.0.4,!=2.1.2,!=2.1.6,>=2.0.1 in /opt/conda/lib/python3.6/site-packages (from matplotlib>=2.1.0->pycocotools) (2.4.7)\n",
      "Requirement already satisfied: cycler>=0.10 in /opt/conda/lib/python3.6/site-packages (from matplotlib>=2.1.0->pycocotools) (0.10.0)\n",
      "Requirement already satisfied: six>=1.5 in /opt/conda/lib/python3.6/site-packages (from python-dateutil>=2.1->matplotlib>=2.1.0->pycocotools) (1.15.0)\n",
      "Building wheels for collected packages: pycocotools\n",
      "  Building wheel for pycocotools (setup.py) ... \u001b[?25ldone\n",
      "\u001b[?25h  Stored in directory: /home/jovyan/.cache/pip/wheels/68/a5/e7/56401832f23d0b2db351c5b682e466cb4841960b086da65e4e\n",
      "Successfully built pycocotools\n",
      "Installing collected packages: pycocotools\n",
      "Successfully installed pycocotools-2.0.2\n"
     ]
    }
   ],
   "source": [
    "!pip install imgaug\n",
    "!pip install terminaltables\n",
    "!pip install torchsummary\n",
    "!pip install pycocotools"
   ]
  },
  {
   "cell_type": "code",
   "execution_count": 16,
   "metadata": {},
   "outputs": [],
   "source": [
    "from pytorchyolo.utils.datasets import ListDataset\n",
    "from pytorchyolo.utils.augmentations import AUGMENTATION_TRANSFORMS\n",
    "from pytorchyolo.utils.utils import to_cpu, load_classes, print_environment_info, provide_determinism, worker_seed_set\n",
    "from pycocotools.coco import COCO\n",
    "import os\n",
    "import shutil\n",
    "from tqdm import tqdm\n",
    "import skimage.io as io\n",
    "import matplotlib.pyplot as plt\n",
    "import cv2\n",
    "from PIL import Image, ImageDraw\n",
    "from torch.utils.data import DataLoader"
   ]
  },
  {
   "cell_type": "code",
   "execution_count": 17,
   "metadata": {},
   "outputs": [],
   "source": [
    "def id2name(coco):\n",
    "    classes=dict()\n",
    "    for cls in coco.dataset['categories']:\n",
    "        classes[cls['id']]=cls['name']\n",
    "    return classes"
   ]
  },
  {
   "cell_type": "code",
   "execution_count": 8,
   "metadata": {},
   "outputs": [],
   "source": [
    "def _create_data_loader(img_path, batch_size, img_size, n_cpu, multiscale_training=False):\n",
    "    \"\"\"Creates a DataLoader for training.\n",
    "\n",
    "    :param img_path: Path to file containing all paths to training images.\n",
    "    :type img_path: str\n",
    "    :param batch_size: Size of each image batch\n",
    "    :type batch_size: int\n",
    "    :param img_size: Size of each image dimension for yolo\n",
    "    :type img_size: int\n",
    "    :param n_cpu: Number of cpu threads to use during batch generation\n",
    "    :type n_cpu: int\n",
    "    :param multiscale_training: Scale images to different sizes randomly\n",
    "    :type multiscale_training: bool\n",
    "    :return: Returns DataLoader\n",
    "    :rtype: DataLoader\n",
    "    \"\"\"\n",
    "    dataset = ListDataset(\n",
    "        img_path,\n",
    "        img_size=img_size,\n",
    "        multiscale=multiscale_training,\n",
    "        transform=AUGMENTATION_TRANSFORMS)\n",
    "    dataloader = DataLoader(\n",
    "        dataset,\n",
    "        batch_size=batch_size,\n",
    "        shuffle=True,\n",
    "        num_workers=n_cpu,\n",
    "        pin_memory=True,\n",
    "        collate_fn=dataset.collate_fn,\n",
    "        worker_init_fn=worker_seed_set)\n",
    "    return dataloader, dataset"
   ]
  },
  {
   "cell_type": "code",
   "execution_count": 19,
   "metadata": {},
   "outputs": [],
   "source": [
    "def dataset_generator(server_num, batch_size, n_cpu, multiscale_training=False,img_size=416,iid=True, mode=\"train\",):\n",
    "    dataDir = '.'\n",
    "    dataset = mode+'2014'\n",
    "    annFile='{}/annotations/instances_{}.json'.format(dataDir,dataset)\n",
    "    classes_names = ['car', 'bicycle', 'person', 'motorcycle', 'bus', 'truck']\n",
    "    coco = COCO(annFile)\n",
    "    classes = id2name(coco)\n",
    "    print(classes)\n",
    "    classes_ids = coco.getCatIds(catNms=classes_names)\n",
    "    print(classes_ids)\n",
    "    if iid is True:\n",
    "        text= dict()\n",
    "        for i_s in range(server_num):\n",
    "            file_out = dataset+'server'+'_'+str(i_s)+'_'+'.txt'\n",
    "            f = open(file_out,'a')\n",
    "            for cls in classes_names:\n",
    "                    #Get ID number of this class\n",
    "                    cls_id=coco.getCatIds(catNms=[cls])\n",
    "                    img_ids=coco.getImgIds(catIds=cls_id)\n",
    "                    total = len(img_ids)\n",
    "                    per   = int(total/server_num)\n",
    "                    img_ids_ = img_ids[(i_s)*per:(i_s+1)*per]\n",
    "\n",
    "                    for imgId in tqdm(img_ids_):\n",
    "                        img = coco.loadImgs(imgId)[0]\n",
    "                        filename = img['file_name']\n",
    "                        string = './images/'+dataset+'/'+filename\n",
    "                        #print(string)\n",
    "                        f.write(string)\n",
    "                        f.write('\\n')\n",
    "            f.close()\n",
    "            f = open(file_out,\"r\")\n",
    "            \n",
    "            \n",
    "            writeDir = \"./new_\"+dataset+'server'+'_'+str(i_s)+'_'+\".txt\"\n",
    "            \n",
    "            outfile=open(writeDir,\"w\")\n",
    "\n",
    "            lines_seen = set()  # Build an unordered collection of unique elements.\n",
    " \n",
    "            for line in f:\n",
    "                line = line.strip('\\n')\n",
    "                if line not in lines_seen:\n",
    "                    outfile.write(line+ '\\n')\n",
    "                    lines_seen.add(line)\n",
    "            outfile.close()\n",
    "            text[i_s] = writeDir \n",
    "            \n",
    "        dataloader_ser={}\n",
    "        dataset_ser = {}\n",
    "    \n",
    "        for i_s in range(server_num):\n",
    "            img_path = text[i_s]\n",
    "            dataloader,dataset =  _create_data_loader(img_path, batch_size, img_size, n_cpu, multiscale_training=False)\n",
    "            dataloader_ser[i_s] = dataloader\n",
    "            dataset_ser[i_s] = dataset\n",
    "        print('done')\n",
    "        \n",
    "        return dataloader_ser,dataset_ser\n",
    "            \n",
    "            \n",
    "            \n",
    "            \n",
    "\n",
    "\n",
    "            "
   ]
  },
  {
   "cell_type": "code",
   "execution_count": 21,
   "metadata": {},
   "outputs": [
    {
     "name": "stdout",
     "output_type": "stream",
     "text": [
      "loading annotations into memory...\n",
      "Done (t=11.33s)\n",
      "creating index...\n"
     ]
    },
    {
     "name": "stderr",
     "output_type": "stream",
     "text": [
      "100%|██████████| 1721/1721 [00:00<00:00, 309815.75it/s]\n",
      "100%|██████████| 457/457 [00:00<00:00, 180455.37it/s]\n",
      "100%|██████████| 9034/9034 [00:00<00:00, 339829.62it/s]\n",
      "100%|██████████| 488/488 [00:00<00:00, 294252.49it/s]\n",
      "100%|██████████| 558/558 [00:00<00:00, 253045.91it/s]\n",
      "100%|██████████| 864/864 [00:00<00:00, 318582.74it/s]\n",
      "100%|██████████| 1721/1721 [00:00<00:00, 264875.87it/s]\n",
      "100%|██████████| 457/457 [00:00<00:00, 297270.00it/s]\n",
      "  0%|          | 0/9034 [00:00<?, ?it/s]"
     ]
    },
    {
     "name": "stdout",
     "output_type": "stream",
     "text": [
      "index created!\n",
      "{1: 'person', 2: 'bicycle', 3: 'car', 4: 'motorcycle', 5: 'airplane', 6: 'bus', 7: 'train', 8: 'truck', 9: 'boat', 10: 'traffic light', 11: 'fire hydrant', 13: 'stop sign', 14: 'parking meter', 15: 'bench', 16: 'bird', 17: 'cat', 18: 'dog', 19: 'horse', 20: 'sheep', 21: 'cow', 22: 'elephant', 23: 'bear', 24: 'zebra', 25: 'giraffe', 27: 'backpack', 28: 'umbrella', 31: 'handbag', 32: 'tie', 33: 'suitcase', 34: 'frisbee', 35: 'skis', 36: 'snowboard', 37: 'sports ball', 38: 'kite', 39: 'baseball bat', 40: 'baseball glove', 41: 'skateboard', 42: 'surfboard', 43: 'tennis racket', 44: 'bottle', 46: 'wine glass', 47: 'cup', 48: 'fork', 49: 'knife', 50: 'spoon', 51: 'bowl', 52: 'banana', 53: 'apple', 54: 'sandwich', 55: 'orange', 56: 'broccoli', 57: 'carrot', 58: 'hot dog', 59: 'pizza', 60: 'donut', 61: 'cake', 62: 'chair', 63: 'couch', 64: 'potted plant', 65: 'bed', 67: 'dining table', 70: 'toilet', 72: 'tv', 73: 'laptop', 74: 'mouse', 75: 'remote', 76: 'keyboard', 77: 'cell phone', 78: 'microwave', 79: 'oven', 80: 'toaster', 81: 'sink', 82: 'refrigerator', 84: 'book', 85: 'clock', 86: 'vase', 87: 'scissors', 88: 'teddy bear', 89: 'hair drier', 90: 'toothbrush'}\n",
      "[1, 2, 3, 4, 6, 8]\n"
     ]
    },
    {
     "name": "stderr",
     "output_type": "stream",
     "text": [
      "100%|██████████| 9034/9034 [00:00<00:00, 341692.82it/s]\n",
      "100%|██████████| 488/488 [00:00<00:00, 282553.89it/s]\n",
      "100%|██████████| 558/558 [00:00<00:00, 313813.57it/s]\n",
      "100%|██████████| 864/864 [00:00<00:00, 305580.46it/s]\n",
      "100%|██████████| 1721/1721 [00:00<00:00, 294989.67it/s]\n",
      "100%|██████████| 457/457 [00:00<00:00, 283717.72it/s]\n",
      "100%|██████████| 9034/9034 [00:00<00:00, 345336.37it/s]\n",
      "100%|██████████| 488/488 [00:00<00:00, 296726.64it/s]\n",
      "100%|██████████| 558/558 [00:00<00:00, 319119.39it/s]\n",
      "100%|██████████| 864/864 [00:00<00:00, 266540.06it/s]\n",
      "100%|██████████| 1721/1721 [00:00<00:00, 325109.09it/s]\n",
      "100%|██████████| 457/457 [00:00<00:00, 295802.00it/s]\n",
      "100%|██████████| 9034/9034 [00:00<00:00, 340602.46it/s]\n",
      "100%|██████████| 488/488 [00:00<00:00, 262412.87it/s]\n",
      "100%|██████████| 558/558 [00:00<00:00, 213561.61it/s]\n",
      "100%|██████████| 864/864 [00:00<00:00, 318386.81it/s]\n",
      "100%|██████████| 1721/1721 [00:00<00:00, 307584.68it/s]\n",
      "100%|██████████| 457/457 [00:00<00:00, 276953.75it/s]\n",
      "100%|██████████| 9034/9034 [00:00<00:00, 339081.52it/s]\n",
      "100%|██████████| 488/488 [00:00<00:00, 293830.08it/s]\n",
      "100%|██████████| 558/558 [00:00<00:00, 256765.95it/s]\n",
      "100%|██████████| 864/864 [00:00<00:00, 275496.32it/s]\n"
     ]
    },
    {
     "name": "stdout",
     "output_type": "stream",
     "text": [
      "done\n"
     ]
    }
   ],
   "source": [
    "a, b = dataset_generator(5,16,8)"
   ]
  },
  {
   "cell_type": "code",
   "execution_count": null,
   "metadata": {},
   "outputs": [],
   "source": []
  }
 ],
 "metadata": {
  "kernelspec": {
   "display_name": "Python 3",
   "language": "python",
   "name": "python3"
  },
  "language_info": {
   "codemirror_mode": {
    "name": "ipython",
    "version": 3
   },
   "file_extension": ".py",
   "mimetype": "text/x-python",
   "name": "python",
   "nbconvert_exporter": "python",
   "pygments_lexer": "ipython3",
   "version": "3.6.10"
  }
 },
 "nbformat": 4,
 "nbformat_minor": 4
}
