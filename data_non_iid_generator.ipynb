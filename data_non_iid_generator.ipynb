{
 "cells": [
  {
   "cell_type": "markdown",
   "metadata": {},
   "source": [
    "To make the code run,plz install pycocotools first"
   ]
  },
  {
   "cell_type": "code",
   "execution_count": 1,
   "metadata": {},
   "outputs": [
    {
     "name": "stdout",
     "output_type": "stream",
     "text": [
      "Collecting pycocotools\n",
      "  Downloading https://files.pythonhosted.org/packages/de/df/056875d697c45182ed6d2ae21f62015896fdb841906fe48e7268e791c467/pycocotools-2.0.2.tar.gz\n",
      "Requirement already satisfied: setuptools>=18.0 in /opt/conda/lib/python3.6/site-packages (from pycocotools) (49.2.0.post20200712)\n",
      "Requirement already satisfied: cython>=0.27.3 in /opt/conda/lib/python3.6/site-packages (from pycocotools) (0.29)\n",
      "Requirement already satisfied: matplotlib>=2.1.0 in /opt/conda/lib/python3.6/site-packages (from pycocotools) (3.1.1)\n",
      "Requirement already satisfied: numpy>=1.11 in /opt/conda/lib/python3.6/site-packages (from matplotlib>=2.1.0->pycocotools) (1.17.3)\n",
      "Requirement already satisfied: python-dateutil>=2.1 in /opt/conda/lib/python3.6/site-packages (from matplotlib>=2.1.0->pycocotools) (2.8.1)\n",
      "Requirement already satisfied: cycler>=0.10 in /opt/conda/lib/python3.6/site-packages (from matplotlib>=2.1.0->pycocotools) (0.10.0)\n",
      "Requirement already satisfied: pyparsing!=2.0.4,!=2.1.2,!=2.1.6,>=2.0.1 in /opt/conda/lib/python3.6/site-packages (from matplotlib>=2.1.0->pycocotools) (2.4.7)\n",
      "Requirement already satisfied: kiwisolver>=1.0.1 in /opt/conda/lib/python3.6/site-packages (from matplotlib>=2.1.0->pycocotools) (1.2.0)\n",
      "Requirement already satisfied: six>=1.5 in /opt/conda/lib/python3.6/site-packages (from python-dateutil>=2.1->matplotlib>=2.1.0->pycocotools) (1.15.0)\n",
      "Building wheels for collected packages: pycocotools\n",
      "  Building wheel for pycocotools (setup.py) ... \u001b[?25ldone\n",
      "\u001b[?25h  Stored in directory: /home/jovyan/.cache/pip/wheels/68/a5/e7/56401832f23d0b2db351c5b682e466cb4841960b086da65e4e\n",
      "Successfully built pycocotools\n",
      "Installing collected packages: pycocotools\n",
      "Successfully installed pycocotools-2.0.2\n"
     ]
    }
   ],
   "source": [
    "!pip install pycocotools # requirement "
   ]
  },
  {
   "cell_type": "code",
   "execution_count": 8,
   "metadata": {},
   "outputs": [],
   "source": [
    "from pycocotools.coco import COCO\n",
    "import os\n",
    "import shutil\n",
    "from tqdm import tqdm\n",
    "import skimage.io as io\n",
    "import matplotlib.pyplot as plt\n",
    "import cv2\n",
    "from PIL import Image, ImageDraw"
   ]
  },
  {
   "cell_type": "code",
   "execution_count": 9,
   "metadata": {},
   "outputs": [],
   "source": [
    "def id2name(coco):\n",
    "    classes=dict()\n",
    "    for cls in coco.dataset['categories']:\n",
    "        classes[cls['id']]=cls['name']\n",
    "    return classes"
   ]
  },
  {
   "cell_type": "code",
   "execution_count": 10,
   "metadata": {},
   "outputs": [
    {
     "name": "stdout",
     "output_type": "stream",
     "text": [
      "loading annotations into memory...\n",
      "Done (t=9.38s)\n",
      "creating index...\n"
     ]
    },
    {
     "name": "stderr",
     "output_type": "stream",
     "text": [
      "100%|██████████| 8606/8606 [00:00<00:00, 335120.65it/s]\n",
      "100%|██████████| 2287/2287 [00:00<00:00, 338534.44it/s]\n",
      "100%|██████████| 45174/45174 [00:00<00:00, 353857.76it/s]\n",
      "100%|██████████| 2442/2442 [00:00<00:00, 360486.06it/s]"
     ]
    },
    {
     "name": "stdout",
     "output_type": "stream",
     "text": [
      "index created!\n",
      "{1: 'person', 2: 'bicycle', 3: 'car', 4: 'motorcycle', 5: 'airplane', 6: 'bus', 7: 'train', 8: 'truck', 9: 'boat', 10: 'traffic light', 11: 'fire hydrant', 13: 'stop sign', 14: 'parking meter', 15: 'bench', 16: 'bird', 17: 'cat', 18: 'dog', 19: 'horse', 20: 'sheep', 21: 'cow', 22: 'elephant', 23: 'bear', 24: 'zebra', 25: 'giraffe', 27: 'backpack', 28: 'umbrella', 31: 'handbag', 32: 'tie', 33: 'suitcase', 34: 'frisbee', 35: 'skis', 36: 'snowboard', 37: 'sports ball', 38: 'kite', 39: 'baseball bat', 40: 'baseball glove', 41: 'skateboard', 42: 'surfboard', 43: 'tennis racket', 44: 'bottle', 46: 'wine glass', 47: 'cup', 48: 'fork', 49: 'knife', 50: 'spoon', 51: 'bowl', 52: 'banana', 53: 'apple', 54: 'sandwich', 55: 'orange', 56: 'broccoli', 57: 'carrot', 58: 'hot dog', 59: 'pizza', 60: 'donut', 61: 'cake', 62: 'chair', 63: 'couch', 64: 'potted plant', 65: 'bed', 67: 'dining table', 70: 'toilet', 72: 'tv', 73: 'laptop', 74: 'mouse', 75: 'remote', 76: 'keyboard', 77: 'cell phone', 78: 'microwave', 79: 'oven', 80: 'toaster', 81: 'sink', 82: 'refrigerator', 84: 'book', 85: 'clock', 86: 'vase', 87: 'scissors', 88: 'teddy bear', 89: 'hair drier', 90: 'toothbrush'}\n",
      "[1, 2, 3, 4, 6, 8]\n",
      "car 8606\n",
      "bicycle 2287\n",
      "person 45174\n",
      "motorcycle 2442\n"
     ]
    },
    {
     "name": "stderr",
     "output_type": "stream",
     "text": [
      "\n",
      "100%|██████████| 2791/2791 [00:00<00:00, 368041.70it/s]\n",
      "100%|██████████| 4321/4321 [00:00<00:00, 365616.05it/s]"
     ]
    },
    {
     "name": "stdout",
     "output_type": "stream",
     "text": [
      "bus 2791\n",
      "truck 4321\n"
     ]
    },
    {
     "name": "stderr",
     "output_type": "stream",
     "text": [
      "\n"
     ]
    }
   ],
   "source": [
    "dataDir = '.'\n",
    "dataset = 'train2014'\n",
    "annFile='{}/annotations/instances_{}.json'.format(dataDir,dataset)\n",
    "classes_names = ['car', 'bicycle', 'person', 'motorcycle', 'bus', 'truck']\n",
    "coco = COCO(annFile)\n",
    "classes = id2name(coco)\n",
    "print(classes)\n",
    "classes_ids = coco.getCatIds(catNms=classes_names)\n",
    "print(classes_ids)\n",
    "file_out = dataset+'server1'+'.txt'\n",
    "f = open(file_out,'a')\n",
    "for cls in classes_names:\n",
    "        #Get ID number of this class\n",
    "        cls_id=coco.getCatIds(catNms=[cls])\n",
    "        img_ids=coco.getImgIds(catIds=cls_id)\n",
    "        print(cls,len(img_ids))\n",
    "        # imgIds=img_ids[0:10]\n",
    "        for imgId in tqdm(img_ids):\n",
    "            img = coco.loadImgs(imgId)[0]\n",
    "            filename = img['file_name']\n",
    "            string = '/images/'+dataset+'/'+filename\n",
    "            #print(string)\n",
    "            f.write(string)\n",
    "            f.write('\\n')\n",
    "            \n",
    "            #objs=showimg(coco, dataset, img, classes,classes_ids,show=False)\n",
    "            #print(objs)\n",
    "            #save_annotations_and_imgs(coco, dataset, filename, objs)\n",
    "f.close()"
   ]
  },
  {
   "cell_type": "code",
   "execution_count": 11,
   "metadata": {},
   "outputs": [
    {
     "name": "stdout",
     "output_type": "stream",
     "text": [
      "loading annotations into memory...\n",
      "Done (t=4.32s)\n",
      "creating index...\n"
     ]
    },
    {
     "name": "stderr",
     "output_type": "stream",
     "text": [
      "100%|██████████| 4180/4180 [00:00<00:00, 318466.01it/s]\n",
      "100%|██████████| 1114/1114 [00:00<00:00, 311559.29it/s]\n",
      "100%|██████████| 21634/21634 [00:00<00:00, 365670.10it/s]\n",
      "100%|██████████| 1219/1219 [00:00<00:00, 352392.07it/s]\n",
      "100%|██████████| 1350/1350 [00:00<00:00, 353430.52it/s]\n",
      "100%|██████████| 2056/2056 [00:00<00:00, 358326.64it/s]"
     ]
    },
    {
     "name": "stdout",
     "output_type": "stream",
     "text": [
      "index created!\n",
      "{1: 'person', 2: 'bicycle', 3: 'car', 4: 'motorcycle', 5: 'airplane', 6: 'bus', 7: 'train', 8: 'truck', 9: 'boat', 10: 'traffic light', 11: 'fire hydrant', 13: 'stop sign', 14: 'parking meter', 15: 'bench', 16: 'bird', 17: 'cat', 18: 'dog', 19: 'horse', 20: 'sheep', 21: 'cow', 22: 'elephant', 23: 'bear', 24: 'zebra', 25: 'giraffe', 27: 'backpack', 28: 'umbrella', 31: 'handbag', 32: 'tie', 33: 'suitcase', 34: 'frisbee', 35: 'skis', 36: 'snowboard', 37: 'sports ball', 38: 'kite', 39: 'baseball bat', 40: 'baseball glove', 41: 'skateboard', 42: 'surfboard', 43: 'tennis racket', 44: 'bottle', 46: 'wine glass', 47: 'cup', 48: 'fork', 49: 'knife', 50: 'spoon', 51: 'bowl', 52: 'banana', 53: 'apple', 54: 'sandwich', 55: 'orange', 56: 'broccoli', 57: 'carrot', 58: 'hot dog', 59: 'pizza', 60: 'donut', 61: 'cake', 62: 'chair', 63: 'couch', 64: 'potted plant', 65: 'bed', 67: 'dining table', 70: 'toilet', 72: 'tv', 73: 'laptop', 74: 'mouse', 75: 'remote', 76: 'keyboard', 77: 'cell phone', 78: 'microwave', 79: 'oven', 80: 'toaster', 81: 'sink', 82: 'refrigerator', 84: 'book', 85: 'clock', 86: 'vase', 87: 'scissors', 88: 'teddy bear', 89: 'hair drier', 90: 'toothbrush'}\n",
      "[1, 2, 3, 4, 6, 8]\n",
      "car 4180\n",
      "bicycle 1114\n",
      "person 21634\n",
      "motorcycle 1219\n",
      "bus 1350\n",
      "truck 2056\n"
     ]
    },
    {
     "name": "stderr",
     "output_type": "stream",
     "text": [
      "\n"
     ]
    }
   ],
   "source": [
    "dataDir = '.'\n",
    "dataset = 'val2014'\n",
    "annFile='{}/annotations/instances_{}.json'.format(dataDir,dataset)\n",
    "classes_names = ['car', 'bicycle', 'person', 'motorcycle', 'bus', 'truck']\n",
    "coco = COCO(annFile)\n",
    "classes = id2name(coco)\n",
    "print(classes)\n",
    "classes_ids = coco.getCatIds(catNms=classes_names)\n",
    "print(classes_ids)\n",
    "file_out = dataset+'server1'+'.txt'\n",
    "f = open(file_out,'a')\n",
    "for cls in classes_names:\n",
    "        #Get ID number of this class\n",
    "        cls_id=coco.getCatIds(catNms=[cls])\n",
    "        img_ids=coco.getImgIds(catIds=cls_id)\n",
    "        print(cls,len(img_ids))\n",
    "        # imgIds=img_ids[0:10]\n",
    "        for imgId in tqdm(img_ids):\n",
    "            img = coco.loadImgs(imgId)[0]\n",
    "            filename = img['file_name']\n",
    "            string = '/images/'+dataset+'/'+filename\n",
    "            #print(string)\n",
    "            f.write(string)\n",
    "            f.write('\\n')\n",
    "            \n",
    "            #objs=showimg(coco, dataset, img, classes,classes_ids,show=False)\n",
    "            #print(objs)\n",
    "            #save_annotations_and_imgs(coco, dataset, filename, objs)\n",
    "f.close()"
   ]
  },
  {
   "cell_type": "markdown",
   "metadata": {},
   "source": [
    "Delete the same images from the dataset"
   ]
  },
  {
   "cell_type": "code",
   "execution_count": 13,
   "metadata": {},
   "outputs": [],
   "source": [
    "readDir = \"./train2014server1.txt\"\n",
    "writeDir = \"./train2014server1_new.txt\"\n",
    "outfile=open(writeDir,\"w\")\n",
    "f = open(readDir,\"r\")\n",
    " \n",
    "lines_seen = set()  # Build an unordered collection of unique elements.\n",
    " \n",
    "for line in f:\n",
    "    line = line.strip('\\n')\n",
    "    if line not in lines_seen:\n",
    "        outfile.write(line+ '\\n')\n",
    "        lines_seen.add(line)"
   ]
  },
  {
   "cell_type": "code",
   "execution_count": 14,
   "metadata": {},
   "outputs": [],
   "source": [
    "readDir = \"./val2014server1.txt\"\n",
    "writeDir = \"./val2014server1_new.txt\"\n",
    "outfile=open(writeDir,\"w\")\n",
    "f = open(readDir,\"r\")\n",
    " \n",
    "lines_seen = set()  # Build an unordered collection of unique elements.\n",
    " \n",
    "for line in f:\n",
    "    line = line.strip('\\n')\n",
    "    if line not in lines_seen:\n",
    "        outfile.write(line+ '\\n')\n",
    "        lines_seen.add(line)"
   ]
  },
  {
   "cell_type": "code",
   "execution_count": null,
   "metadata": {},
   "outputs": [],
   "source": []
  }
 ],
 "metadata": {
  "kernelspec": {
   "display_name": "Python 3",
   "language": "python",
   "name": "python3"
  },
  "language_info": {
   "codemirror_mode": {
    "name": "ipython",
    "version": 3
   },
   "file_extension": ".py",
   "mimetype": "text/x-python",
   "name": "python",
   "nbconvert_exporter": "python",
   "pygments_lexer": "ipython3",
   "version": "3.6.10"
  }
 },
 "nbformat": 4,
 "nbformat_minor": 4
}
